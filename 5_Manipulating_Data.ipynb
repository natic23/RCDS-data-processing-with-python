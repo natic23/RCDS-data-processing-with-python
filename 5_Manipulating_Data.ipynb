{
 "cells": [
  {
   "cell_type": "markdown",
   "metadata": {},
   "source": [
    "#### Data Processing with Python"
   ]
  },
  {
   "cell_type": "code",
   "execution_count": 1,
   "metadata": {},
   "outputs": [],
   "source": [
    "import pandas as pd\n",
    "import matplotlib.pyplot as plt\n",
    "import seaborn as sns"
   ]
  },
  {
   "cell_type": "markdown",
   "metadata": {},
   "source": [
    "\n",
    "###### IN CASE OF PROBLEMS IMPORTING PACKAGES\n"
   ]
  },
  {
   "cell_type": "code",
   "execution_count": null,
   "metadata": {},
   "outputs": [],
   "source": [
    "# SOLUTION A: select this cell and type Shift-Enter to execute the code below.\n",
    "\n",
    "%conda install openpyxl pandas seaborn\n",
    "\n",
    "# Now restart the kernel (Menu -> Kernel -> Restart Kernel)"
   ]
  },
  {
   "cell_type": "code",
   "execution_count": null,
   "metadata": {},
   "outputs": [],
   "source": [
    "# SOLUTION B: select this cell and type Shift-Enter to execute the code below.\n",
    "\n",
    "%pip install openpyxl pandas seaborn\n",
    "\n",
    "# Now restart the kernel (Menu -> Kernel -> Restart Kernel)"
   ]
  },
  {
   "cell_type": "markdown",
   "metadata": {},
   "source": [
    "<hr>\n",
    "\n",
    "Run the following cell to rebuild the three `DataFrames`:"
   ]
  },
  {
   "cell_type": "code",
   "execution_count": 2,
   "metadata": {},
   "outputs": [],
   "source": [
    "\n",
    "# countries\n",
    "countries = pd.read_excel(\"data_geographies_v1.xlsx\", sheet_name = \"list-of-countries-etc\")\n",
    "\n",
    "# co2\n",
    "data = pd.read_csv(\"yearly_co2_emissions_1000_tonnes.csv\")\n",
    "co2 = data.melt(id_vars=['country'], var_name='year', value_name='kt')\n",
    "co2.dropna(inplace=True)\n",
    "co2[\"year\"] = co2[\"year\"].astype(int)\n",
    "\n",
    "# stats97\n",
    "data = pd.read_csv('stats_1997.csv', header=None)\n",
    "df = data[0].str.split('-', expand=True)\n",
    "df.columns = ['geo','statistic']\n",
    "df['value'] = data[1]\n",
    "stats97 = df.pivot(index='geo',columns='statistic',values='value')\n"
   ]
  },
  {
   "cell_type": "markdown",
   "metadata": {},
   "source": [
    "# 5. Manipulating Data\n",
    "\n",
    "In this notebook, we will look at some more of pandas's data-handling tools.\n",
    "\n",
    "***\n",
    "## 5.1 Joining tables\n",
    "\n",
    "To compare emissions between countries in a fair way, it would make sense to convert them to a per-capita basis. \n",
    "Let's start with the figures for 1997 to see how this can be done.\n",
    "\n",
    "First we will make a new dataframe containing only the 1997 emissions:"
   ]
  },
  {
   "cell_type": "code",
   "execution_count": 6,
   "metadata": {},
   "outputs": [
    {
     "data": {
      "text/html": [
       "<div>\n",
       "<style scoped>\n",
       "    .dataframe tbody tr th:only-of-type {\n",
       "        vertical-align: middle;\n",
       "    }\n",
       "\n",
       "    .dataframe tbody tr th {\n",
       "        vertical-align: top;\n",
       "    }\n",
       "\n",
       "    .dataframe thead th {\n",
       "        text-align: right;\n",
       "    }\n",
       "</style>\n",
       "<table border=\"1\" class=\"dataframe\">\n",
       "  <thead>\n",
       "    <tr style=\"text-align: right;\">\n",
       "      <th></th>\n",
       "      <th>country</th>\n",
       "      <th>year</th>\n",
       "      <th>kt</th>\n",
       "    </tr>\n",
       "  </thead>\n",
       "  <tbody>\n",
       "    <tr>\n",
       "      <th>47232</th>\n",
       "      <td>Afghanistan</td>\n",
       "      <td>1997</td>\n",
       "      <td>1100.0</td>\n",
       "    </tr>\n",
       "    <tr>\n",
       "      <th>47233</th>\n",
       "      <td>Albania</td>\n",
       "      <td>1997</td>\n",
       "      <td>1540.0</td>\n",
       "    </tr>\n",
       "    <tr>\n",
       "      <th>47234</th>\n",
       "      <td>Algeria</td>\n",
       "      <td>1997</td>\n",
       "      <td>87300.0</td>\n",
       "    </tr>\n",
       "    <tr>\n",
       "      <th>47235</th>\n",
       "      <td>Andorra</td>\n",
       "      <td>1997</td>\n",
       "      <td>466.0</td>\n",
       "    </tr>\n",
       "    <tr>\n",
       "      <th>47236</th>\n",
       "      <td>Angola</td>\n",
       "      <td>1997</td>\n",
       "      <td>7380.0</td>\n",
       "    </tr>\n",
       "    <tr>\n",
       "      <th>...</th>\n",
       "      <td>...</td>\n",
       "      <td>...</td>\n",
       "      <td>...</td>\n",
       "    </tr>\n",
       "    <tr>\n",
       "      <th>47419</th>\n",
       "      <td>Venezuela</td>\n",
       "      <td>1997</td>\n",
       "      <td>134000.0</td>\n",
       "    </tr>\n",
       "    <tr>\n",
       "      <th>47420</th>\n",
       "      <td>Vietnam</td>\n",
       "      <td>1997</td>\n",
       "      <td>45100.0</td>\n",
       "    </tr>\n",
       "    <tr>\n",
       "      <th>47421</th>\n",
       "      <td>Yemen</td>\n",
       "      <td>1997</td>\n",
       "      <td>13400.0</td>\n",
       "    </tr>\n",
       "    <tr>\n",
       "      <th>47422</th>\n",
       "      <td>Zambia</td>\n",
       "      <td>1997</td>\n",
       "      <td>2390.0</td>\n",
       "    </tr>\n",
       "    <tr>\n",
       "      <th>47423</th>\n",
       "      <td>Zimbabwe</td>\n",
       "      <td>1997</td>\n",
       "      <td>14400.0</td>\n",
       "    </tr>\n",
       "  </tbody>\n",
       "</table>\n",
       "<p>189 rows × 3 columns</p>\n",
       "</div>"
      ],
      "text/plain": [
       "           country  year        kt\n",
       "47232  Afghanistan  1997    1100.0\n",
       "47233      Albania  1997    1540.0\n",
       "47234      Algeria  1997   87300.0\n",
       "47235      Andorra  1997     466.0\n",
       "47236       Angola  1997    7380.0\n",
       "...            ...   ...       ...\n",
       "47419    Venezuela  1997  134000.0\n",
       "47420      Vietnam  1997   45100.0\n",
       "47421        Yemen  1997   13400.0\n",
       "47422       Zambia  1997    2390.0\n",
       "47423     Zimbabwe  1997   14400.0\n",
       "\n",
       "[189 rows x 3 columns]"
      ]
     },
     "execution_count": 6,
     "metadata": {},
     "output_type": "execute_result"
    }
   ],
   "source": [
    "co2_1997 = co2.query('year==1997')\n",
    "co2_1997"
   ]
  },
  {
   "cell_type": "markdown",
   "metadata": {},
   "source": [
    "However, the population data is not yet in the co2 dataframe, so we will need to look it up from another dataframe by matching the country name. \n",
    "\n",
    "This type of **relational data**, where information must be collected from multiple tables, requires careful handling to make sure that rows in different tables are correctly associated with each other. The country name acts as a **key** to unlock the correct data from the associated table.\n",
    "\n",
    "The relevant population data is in the stats97 table: "
   ]
  },
  {
   "cell_type": "code",
   "execution_count": 3,
   "metadata": {},
   "outputs": [
    {
     "data": {
      "text/html": [
       "<div>\n",
       "<style scoped>\n",
       "    .dataframe tbody tr th:only-of-type {\n",
       "        vertical-align: middle;\n",
       "    }\n",
       "\n",
       "    .dataframe tbody tr th {\n",
       "        vertical-align: top;\n",
       "    }\n",
       "\n",
       "    .dataframe thead th {\n",
       "        text-align: right;\n",
       "    }\n",
       "</style>\n",
       "<table border=\"1\" class=\"dataframe\">\n",
       "  <thead>\n",
       "    <tr style=\"text-align: right;\">\n",
       "      <th>statistic</th>\n",
       "      <th>gdp</th>\n",
       "      <th>pop</th>\n",
       "    </tr>\n",
       "    <tr>\n",
       "      <th>geo</th>\n",
       "      <th></th>\n",
       "      <th></th>\n",
       "    </tr>\n",
       "  </thead>\n",
       "  <tbody>\n",
       "    <tr>\n",
       "      <th>afg</th>\n",
       "      <td>NaN</td>\n",
       "      <td>18400000.0</td>\n",
       "    </tr>\n",
       "    <tr>\n",
       "      <th>ago</th>\n",
       "      <td>2.570000e+10</td>\n",
       "      <td>15100000.0</td>\n",
       "    </tr>\n",
       "    <tr>\n",
       "      <th>alb</th>\n",
       "      <td>5.470000e+09</td>\n",
       "      <td>3090000.0</td>\n",
       "    </tr>\n",
       "    <tr>\n",
       "      <th>and</th>\n",
       "      <td>2.400000e+09</td>\n",
       "      <td>64300.0</td>\n",
       "    </tr>\n",
       "    <tr>\n",
       "      <th>are</th>\n",
       "      <td>1.730000e+11</td>\n",
       "      <td>2700000.0</td>\n",
       "    </tr>\n",
       "    <tr>\n",
       "      <th>...</th>\n",
       "      <td>...</td>\n",
       "      <td>...</td>\n",
       "    </tr>\n",
       "    <tr>\n",
       "      <th>wsm</th>\n",
       "      <td>4.330000e+08</td>\n",
       "      <td>172000.0</td>\n",
       "    </tr>\n",
       "    <tr>\n",
       "      <th>yem</th>\n",
       "      <td>1.740000e+10</td>\n",
       "      <td>16400000.0</td>\n",
       "    </tr>\n",
       "    <tr>\n",
       "      <th>zaf</th>\n",
       "      <td>2.490000e+11</td>\n",
       "      <td>43700000.0</td>\n",
       "    </tr>\n",
       "    <tr>\n",
       "      <th>zmb</th>\n",
       "      <td>9.120000e+09</td>\n",
       "      <td>9670000.0</td>\n",
       "    </tr>\n",
       "    <tr>\n",
       "      <th>zwe</th>\n",
       "      <td>1.560000e+10</td>\n",
       "      <td>11700000.0</td>\n",
       "    </tr>\n",
       "  </tbody>\n",
       "</table>\n",
       "<p>195 rows × 2 columns</p>\n",
       "</div>"
      ],
      "text/plain": [
       "statistic           gdp         pop\n",
       "geo                                \n",
       "afg                 NaN  18400000.0\n",
       "ago        2.570000e+10  15100000.0\n",
       "alb        5.470000e+09   3090000.0\n",
       "and        2.400000e+09     64300.0\n",
       "are        1.730000e+11   2700000.0\n",
       "..                  ...         ...\n",
       "wsm        4.330000e+08    172000.0\n",
       "yem        1.740000e+10  16400000.0\n",
       "zaf        2.490000e+11  43700000.0\n",
       "zmb        9.120000e+09   9670000.0\n",
       "zwe        1.560000e+10  11700000.0\n",
       "\n",
       "[195 rows x 2 columns]"
      ]
     },
     "execution_count": 3,
     "metadata": {},
     "output_type": "execute_result"
    }
   ],
   "source": [
    "stats97"
   ]
  },
  {
   "cell_type": "markdown",
   "metadata": {},
   "source": [
    "However, this is indexed by the `geo` code, rather than the `country` name that we find in `co2_1997`. Fortunately, the `countries` table contains both:"
   ]
  },
  {
   "cell_type": "code",
   "execution_count": 4,
   "metadata": {},
   "outputs": [
    {
     "data": {
      "text/html": [
       "<div>\n",
       "<style scoped>\n",
       "    .dataframe tbody tr th:only-of-type {\n",
       "        vertical-align: middle;\n",
       "    }\n",
       "\n",
       "    .dataframe tbody tr th {\n",
       "        vertical-align: top;\n",
       "    }\n",
       "\n",
       "    .dataframe thead th {\n",
       "        text-align: right;\n",
       "    }\n",
       "</style>\n",
       "<table border=\"1\" class=\"dataframe\">\n",
       "  <thead>\n",
       "    <tr style=\"text-align: right;\">\n",
       "      <th></th>\n",
       "      <th>geo</th>\n",
       "      <th>name</th>\n",
       "      <th>four_regions</th>\n",
       "      <th>eight_regions</th>\n",
       "      <th>six_regions</th>\n",
       "      <th>members_oecd_g77</th>\n",
       "      <th>Latitude</th>\n",
       "      <th>Longitude</th>\n",
       "      <th>UN member since</th>\n",
       "      <th>World bank region</th>\n",
       "      <th>World bank, 4 income groups 2017</th>\n",
       "    </tr>\n",
       "  </thead>\n",
       "  <tbody>\n",
       "    <tr>\n",
       "      <th>0</th>\n",
       "      <td>afg</td>\n",
       "      <td>Afghanistan</td>\n",
       "      <td>asia</td>\n",
       "      <td>asia_west</td>\n",
       "      <td>south_asia</td>\n",
       "      <td>g77</td>\n",
       "      <td>33.00000</td>\n",
       "      <td>66.00000</td>\n",
       "      <td>1946-11-19</td>\n",
       "      <td>South Asia</td>\n",
       "      <td>Low income</td>\n",
       "    </tr>\n",
       "    <tr>\n",
       "      <th>1</th>\n",
       "      <td>alb</td>\n",
       "      <td>Albania</td>\n",
       "      <td>europe</td>\n",
       "      <td>europe_east</td>\n",
       "      <td>europe_central_asia</td>\n",
       "      <td>others</td>\n",
       "      <td>41.00000</td>\n",
       "      <td>20.00000</td>\n",
       "      <td>1955-12-14</td>\n",
       "      <td>Europe &amp; Central Asia</td>\n",
       "      <td>Upper middle income</td>\n",
       "    </tr>\n",
       "    <tr>\n",
       "      <th>2</th>\n",
       "      <td>dza</td>\n",
       "      <td>Algeria</td>\n",
       "      <td>africa</td>\n",
       "      <td>africa_north</td>\n",
       "      <td>middle_east_north_africa</td>\n",
       "      <td>g77</td>\n",
       "      <td>28.00000</td>\n",
       "      <td>3.00000</td>\n",
       "      <td>1962-10-08</td>\n",
       "      <td>Middle East &amp; North Africa</td>\n",
       "      <td>Upper middle income</td>\n",
       "    </tr>\n",
       "    <tr>\n",
       "      <th>3</th>\n",
       "      <td>and</td>\n",
       "      <td>Andorra</td>\n",
       "      <td>europe</td>\n",
       "      <td>europe_west</td>\n",
       "      <td>europe_central_asia</td>\n",
       "      <td>others</td>\n",
       "      <td>42.50779</td>\n",
       "      <td>1.52109</td>\n",
       "      <td>1993-07-28</td>\n",
       "      <td>Europe &amp; Central Asia</td>\n",
       "      <td>High income</td>\n",
       "    </tr>\n",
       "    <tr>\n",
       "      <th>4</th>\n",
       "      <td>ago</td>\n",
       "      <td>Angola</td>\n",
       "      <td>africa</td>\n",
       "      <td>africa_sub_saharan</td>\n",
       "      <td>sub_saharan_africa</td>\n",
       "      <td>g77</td>\n",
       "      <td>-12.50000</td>\n",
       "      <td>18.50000</td>\n",
       "      <td>1976-12-01</td>\n",
       "      <td>Sub-Saharan Africa</td>\n",
       "      <td>Lower middle income</td>\n",
       "    </tr>\n",
       "  </tbody>\n",
       "</table>\n",
       "</div>"
      ],
      "text/plain": [
       "   geo         name four_regions       eight_regions  \\\n",
       "0  afg  Afghanistan         asia           asia_west   \n",
       "1  alb      Albania       europe         europe_east   \n",
       "2  dza      Algeria       africa        africa_north   \n",
       "3  and      Andorra       europe         europe_west   \n",
       "4  ago       Angola       africa  africa_sub_saharan   \n",
       "\n",
       "                six_regions members_oecd_g77  Latitude  Longitude  \\\n",
       "0                south_asia              g77  33.00000   66.00000   \n",
       "1       europe_central_asia           others  41.00000   20.00000   \n",
       "2  middle_east_north_africa              g77  28.00000    3.00000   \n",
       "3       europe_central_asia           others  42.50779    1.52109   \n",
       "4        sub_saharan_africa              g77 -12.50000   18.50000   \n",
       "\n",
       "  UN member since           World bank region World bank, 4 income groups 2017  \n",
       "0      1946-11-19                  South Asia                       Low income  \n",
       "1      1955-12-14       Europe & Central Asia              Upper middle income  \n",
       "2      1962-10-08  Middle East & North Africa              Upper middle income  \n",
       "3      1993-07-28       Europe & Central Asia                      High income  \n",
       "4      1976-12-01          Sub-Saharan Africa              Lower middle income  "
      ]
     },
     "execution_count": 4,
     "metadata": {},
     "output_type": "execute_result"
    }
   ],
   "source": [
    "countries.head()"
   ]
  },
  {
   "cell_type": "markdown",
   "metadata": {},
   "source": [
    "Taking the `co2_1997` data, we apply a `join()` to relate its `country` variable to the `name` variable in `countries`.\n",
    "\n",
    "To do this, we need to set these columns as the index in each table"
   ]
  },
  {
   "cell_type": "code",
   "execution_count": null,
   "metadata": {},
   "outputs": [],
   "source": [
    "a = co2_1997.set_index('country')\n",
    "b = countries.set_index('name')\n",
    "c = a.join(b)\n",
    "c.head()\n"
   ]
  },
  {
   "cell_type": "markdown",
   "metadata": {},
   "source": [
    "For every row in the table `a`, `join()` tries to match its index with a row index in `b`. \n",
    "The resulting table imports the additional columns from the `countries` tibble, so now we can associate each `geo` code with the correct CO2 emissions.\n",
    "\n",
    "`join()` is just one of several pandas methods for working with relational data.\n",
    "\n",
    "\n",
    "#### Exercise {-}\n",
    "\n",
    "Use another `join()` to connect `c` to `stats97`.\n",
    "\n",
    "*Hint*: you can move the current index column back into the body of the DataFrame using the method [`reset_index()`](https://pandas.pydata.org/docs/reference/api/pandas.DataFrame.reset_index.html?highlight=reset_index#pandas.DataFrame.reset_index)"
   ]
  },
  {
   "cell_type": "code",
   "execution_count": 24,
   "metadata": {},
   "outputs": [
    {
     "data": {
      "text/html": [
       "<div>\n",
       "<style scoped>\n",
       "    .dataframe tbody tr th:only-of-type {\n",
       "        vertical-align: middle;\n",
       "    }\n",
       "\n",
       "    .dataframe tbody tr th {\n",
       "        vertical-align: top;\n",
       "    }\n",
       "\n",
       "    .dataframe thead th {\n",
       "        text-align: right;\n",
       "    }\n",
       "</style>\n",
       "<table border=\"1\" class=\"dataframe\">\n",
       "  <thead>\n",
       "    <tr style=\"text-align: right;\">\n",
       "      <th></th>\n",
       "      <th>country</th>\n",
       "      <th>year</th>\n",
       "      <th>kt</th>\n",
       "      <th>four_regions</th>\n",
       "      <th>eight_regions</th>\n",
       "      <th>six_regions</th>\n",
       "      <th>members_oecd_g77</th>\n",
       "      <th>Latitude</th>\n",
       "      <th>Longitude</th>\n",
       "      <th>UN member since</th>\n",
       "      <th>World bank region</th>\n",
       "      <th>World bank, 4 income groups 2017</th>\n",
       "      <th>gdp</th>\n",
       "      <th>pop</th>\n",
       "    </tr>\n",
       "    <tr>\n",
       "      <th>geo</th>\n",
       "      <th></th>\n",
       "      <th></th>\n",
       "      <th></th>\n",
       "      <th></th>\n",
       "      <th></th>\n",
       "      <th></th>\n",
       "      <th></th>\n",
       "      <th></th>\n",
       "      <th></th>\n",
       "      <th></th>\n",
       "      <th></th>\n",
       "      <th></th>\n",
       "      <th></th>\n",
       "      <th></th>\n",
       "    </tr>\n",
       "  </thead>\n",
       "  <tbody>\n",
       "    <tr>\n",
       "      <th>afg</th>\n",
       "      <td>Afghanistan</td>\n",
       "      <td>1997</td>\n",
       "      <td>1100.0</td>\n",
       "      <td>asia</td>\n",
       "      <td>asia_west</td>\n",
       "      <td>south_asia</td>\n",
       "      <td>g77</td>\n",
       "      <td>33.00000</td>\n",
       "      <td>66.00000</td>\n",
       "      <td>1946-11-19</td>\n",
       "      <td>South Asia</td>\n",
       "      <td>Low income</td>\n",
       "      <td>NaN</td>\n",
       "      <td>18400000.0</td>\n",
       "    </tr>\n",
       "    <tr>\n",
       "      <th>alb</th>\n",
       "      <td>Albania</td>\n",
       "      <td>1997</td>\n",
       "      <td>1540.0</td>\n",
       "      <td>europe</td>\n",
       "      <td>europe_east</td>\n",
       "      <td>europe_central_asia</td>\n",
       "      <td>others</td>\n",
       "      <td>41.00000</td>\n",
       "      <td>20.00000</td>\n",
       "      <td>1955-12-14</td>\n",
       "      <td>Europe &amp; Central Asia</td>\n",
       "      <td>Upper middle income</td>\n",
       "      <td>5.470000e+09</td>\n",
       "      <td>3090000.0</td>\n",
       "    </tr>\n",
       "    <tr>\n",
       "      <th>dza</th>\n",
       "      <td>Algeria</td>\n",
       "      <td>1997</td>\n",
       "      <td>87300.0</td>\n",
       "      <td>africa</td>\n",
       "      <td>africa_north</td>\n",
       "      <td>middle_east_north_africa</td>\n",
       "      <td>g77</td>\n",
       "      <td>28.00000</td>\n",
       "      <td>3.00000</td>\n",
       "      <td>1962-10-08</td>\n",
       "      <td>Middle East &amp; North Africa</td>\n",
       "      <td>Upper middle income</td>\n",
       "      <td>9.810000e+10</td>\n",
       "      <td>29900000.0</td>\n",
       "    </tr>\n",
       "    <tr>\n",
       "      <th>and</th>\n",
       "      <td>Andorra</td>\n",
       "      <td>1997</td>\n",
       "      <td>466.0</td>\n",
       "      <td>europe</td>\n",
       "      <td>europe_west</td>\n",
       "      <td>europe_central_asia</td>\n",
       "      <td>others</td>\n",
       "      <td>42.50779</td>\n",
       "      <td>1.52109</td>\n",
       "      <td>1993-07-28</td>\n",
       "      <td>Europe &amp; Central Asia</td>\n",
       "      <td>High income</td>\n",
       "      <td>2.400000e+09</td>\n",
       "      <td>64300.0</td>\n",
       "    </tr>\n",
       "    <tr>\n",
       "      <th>ago</th>\n",
       "      <td>Angola</td>\n",
       "      <td>1997</td>\n",
       "      <td>7380.0</td>\n",
       "      <td>africa</td>\n",
       "      <td>africa_sub_saharan</td>\n",
       "      <td>sub_saharan_africa</td>\n",
       "      <td>g77</td>\n",
       "      <td>-12.50000</td>\n",
       "      <td>18.50000</td>\n",
       "      <td>1976-12-01</td>\n",
       "      <td>Sub-Saharan Africa</td>\n",
       "      <td>Lower middle income</td>\n",
       "      <td>2.570000e+10</td>\n",
       "      <td>15100000.0</td>\n",
       "    </tr>\n",
       "  </tbody>\n",
       "</table>\n",
       "</div>"
      ],
      "text/plain": [
       "         country  year       kt four_regions       eight_regions  \\\n",
       "geo                                                                \n",
       "afg  Afghanistan  1997   1100.0         asia           asia_west   \n",
       "alb      Albania  1997   1540.0       europe         europe_east   \n",
       "dza      Algeria  1997  87300.0       africa        africa_north   \n",
       "and      Andorra  1997    466.0       europe         europe_west   \n",
       "ago       Angola  1997   7380.0       africa  africa_sub_saharan   \n",
       "\n",
       "                  six_regions members_oecd_g77  Latitude  Longitude  \\\n",
       "geo                                                                   \n",
       "afg                south_asia              g77  33.00000   66.00000   \n",
       "alb       europe_central_asia           others  41.00000   20.00000   \n",
       "dza  middle_east_north_africa              g77  28.00000    3.00000   \n",
       "and       europe_central_asia           others  42.50779    1.52109   \n",
       "ago        sub_saharan_africa              g77 -12.50000   18.50000   \n",
       "\n",
       "    UN member since           World bank region  \\\n",
       "geo                                               \n",
       "afg      1946-11-19                  South Asia   \n",
       "alb      1955-12-14       Europe & Central Asia   \n",
       "dza      1962-10-08  Middle East & North Africa   \n",
       "and      1993-07-28       Europe & Central Asia   \n",
       "ago      1976-12-01          Sub-Saharan Africa   \n",
       "\n",
       "    World bank, 4 income groups 2017           gdp         pop  \n",
       "geo                                                             \n",
       "afg                       Low income           NaN  18400000.0  \n",
       "alb              Upper middle income  5.470000e+09   3090000.0  \n",
       "dza              Upper middle income  9.810000e+10  29900000.0  \n",
       "and                      High income  2.400000e+09     64300.0  \n",
       "ago              Lower middle income  2.570000e+10  15100000.0  "
      ]
     },
     "execution_count": 24,
     "metadata": {},
     "output_type": "execute_result"
    }
   ],
   "source": [
    "c =c.reset_index()\n",
    "c.head()\n",
    "d=c.set_index('geo')\n",
    "data_97=d.join(stats97)\n",
    "data_97.head()"
   ]
  },
  {
   "cell_type": "markdown",
   "metadata": {},
   "source": [
    "#### Exercise {-}\n",
    "\n",
    "Calculate the per-capita emissions for 1997 as a new column and plot these on a histogram."
   ]
  },
  {
   "cell_type": "code",
   "execution_count": null,
   "metadata": {},
   "outputs": [
    {
     "data": {
      "image/png": "[encoded data removed]",
      "text/plain": [
       "<Figure size 500x500 with 1 Axes>"
      ]
     },
     "metadata": {},
     "output_type": "display_data"
    }
   ],
   "source": [
    "data_97['ppc_emissions']= data_97['kt']/data_97['pop']\n",
    "data_97.head()\n",
    "sns.displot(data=data_97, x=\"ppc_emissions\", bin=20, color='red')\n",
    "plt.show()"
   ]
  },
  {
   "cell_type": "markdown",
   "metadata": {},
   "source": [
    "#### Exercise {-}\n",
    "\n",
    "The file `population_total.csv` contains (real or predicted) population data for each country for the years 1800-2100.\n",
    "\n",
    "Write a workflow to construct a new DataFrame `co2_pp` containing the following columns:\n",
    "\n",
    "* country\n",
    "* year\n",
    "* kt = total CO2 emissions (in kilotonnes)\n",
    "* pop = total population\n",
    "* t_pp = per-capita CO2 emissions (in tonnes)\n",
    "\n"
   ]
  },
  {
   "cell_type": "code",
   "execution_count": 124,
   "metadata": {},
   "outputs": [
    {
     "data": {
      "text/html": [
       "<div>\n",
       "<style scoped>\n",
       "    .dataframe tbody tr th:only-of-type {\n",
       "        vertical-align: middle;\n",
       "    }\n",
       "\n",
       "    .dataframe tbody tr th {\n",
       "        vertical-align: top;\n",
       "    }\n",
       "\n",
       "    .dataframe thead th {\n",
       "        text-align: right;\n",
       "    }\n",
       "</style>\n",
       "<table border=\"1\" class=\"dataframe\">\n",
       "  <thead>\n",
       "    <tr style=\"text-align: right;\">\n",
       "      <th></th>\n",
       "      <th>country</th>\n",
       "      <th>years</th>\n",
       "      <th>pop</th>\n",
       "      <th>kt</th>\n",
       "      <th>t_pp</th>\n",
       "    </tr>\n",
       "  </thead>\n",
       "  <tbody>\n",
       "    <tr>\n",
       "      <th>182</th>\n",
       "      <td>Uganda</td>\n",
       "      <td>1800</td>\n",
       "      <td>2100000</td>\n",
       "      <td>9360.0</td>\n",
       "      <td>0.004457</td>\n",
       "    </tr>\n",
       "    <tr>\n",
       "      <th>374</th>\n",
       "      <td>Turkey</td>\n",
       "      <td>1801</td>\n",
       "      <td>9790000</td>\n",
       "      <td>9360.0</td>\n",
       "      <td>0.000956</td>\n",
       "    </tr>\n",
       "    <tr>\n",
       "      <th>566</th>\n",
       "      <td>Tonga</td>\n",
       "      <td>1802</td>\n",
       "      <td>18700</td>\n",
       "      <td>9360.0</td>\n",
       "      <td>0.500535</td>\n",
       "    </tr>\n",
       "    <tr>\n",
       "      <th>758</th>\n",
       "      <td>Thailand</td>\n",
       "      <td>1803</td>\n",
       "      <td>4670000</td>\n",
       "      <td>9370.0</td>\n",
       "      <td>0.002006</td>\n",
       "    </tr>\n",
       "    <tr>\n",
       "      <th>950</th>\n",
       "      <td>Syria</td>\n",
       "      <td>1804</td>\n",
       "      <td>1340000</td>\n",
       "      <td>9370.0</td>\n",
       "      <td>0.006993</td>\n",
       "    </tr>\n",
       "  </tbody>\n",
       "</table>\n",
       "</div>"
      ],
      "text/plain": [
       "      country  years      pop      kt      t_pp\n",
       "182    Uganda   1800  2100000  9360.0  0.004457\n",
       "374    Turkey   1801  9790000  9360.0  0.000956\n",
       "566     Tonga   1802    18700  9360.0  0.500535\n",
       "758  Thailand   1803  4670000  9370.0  0.002006\n",
       "950     Syria   1804  1340000  9370.0  0.006993"
      ]
     },
     "execution_count": 124,
     "metadata": {},
     "output_type": "execute_result"
    }
   ],
   "source": [
    "population= pd.read_csv(\"population_total.csv\")\n",
    "population.head()\n",
    "#melt: to seperate the 'year' label -> into year column, value under year as \"population\" column\n",
    "# pop and year column\n",
    "#melt data: use country as identifier, years as variable, the value under \"years\" as \"pop\"(population)\n",
    "co2_pp= pd.melt(population, id_vars=\"country\", var_name=\"years\",value_name=\"pop\")\n",
    "\n",
    "co2_pp.head()\n",
    "\n",
    "#add kt column\n",
    "co2_pp['kt']= co2['kt']\n",
    "co2_pp.dropna(inplace=True)\n",
    "co2_pp['years']=co2_pp['years'].astype(int)\n",
    "\n",
    "\n",
    "#add t_pp (per capita CO2 emission)\n",
    "co2_pp['t_pp']= co2_pp['kt']/co2_pp['pop']\n",
    "co2_pp.head()"
   ]
  },
  {
   "cell_type": "markdown",
   "metadata": {},
   "source": [
    "***\n",
    "\n",
    "## 5.2 Summarising data across groups\n",
    "\n",
    "Cases often belong to distinct groups that we want to compare with each other in some way.\n",
    "\n",
    "\n",
    "#### Exercise {-}\n",
    "\n",
    "Using the output of the previous exercise and the `countries` dataframe, add a column for the `eight_regions` grouping."
   ]
  },
  {
   "cell_type": "code",
   "execution_count": 123,
   "metadata": {},
   "outputs": [
    {
     "data": {
      "text/html": [
       "<div>\n",
       "<style scoped>\n",
       "    .dataframe tbody tr th:only-of-type {\n",
       "        vertical-align: middle;\n",
       "    }\n",
       "\n",
       "    .dataframe tbody tr th {\n",
       "        vertical-align: top;\n",
       "    }\n",
       "\n",
       "    .dataframe thead th {\n",
       "        text-align: right;\n",
       "    }\n",
       "</style>\n",
       "<table border=\"1\" class=\"dataframe\">\n",
       "  <thead>\n",
       "    <tr style=\"text-align: right;\">\n",
       "      <th></th>\n",
       "      <th>years</th>\n",
       "      <th>pop</th>\n",
       "      <th>kt</th>\n",
       "      <th>t_pp</th>\n",
       "      <th>eight_regions</th>\n",
       "    </tr>\n",
       "    <tr>\n",
       "      <th>country</th>\n",
       "      <th></th>\n",
       "      <th></th>\n",
       "      <th></th>\n",
       "      <th></th>\n",
       "      <th></th>\n",
       "    </tr>\n",
       "  </thead>\n",
       "  <tbody>\n",
       "    <tr>\n",
       "      <th>Uganda</th>\n",
       "      <td>1800</td>\n",
       "      <td>2100000</td>\n",
       "      <td>9360.0</td>\n",
       "      <td>0.004457</td>\n",
       "      <td>africa_sub_saharan</td>\n",
       "    </tr>\n",
       "    <tr>\n",
       "      <th>Turkey</th>\n",
       "      <td>1801</td>\n",
       "      <td>9790000</td>\n",
       "      <td>9360.0</td>\n",
       "      <td>0.000956</td>\n",
       "      <td>europe_east</td>\n",
       "    </tr>\n",
       "    <tr>\n",
       "      <th>Tonga</th>\n",
       "      <td>1802</td>\n",
       "      <td>18700</td>\n",
       "      <td>9360.0</td>\n",
       "      <td>0.500535</td>\n",
       "      <td>east_asia_pacific</td>\n",
       "    </tr>\n",
       "    <tr>\n",
       "      <th>Thailand</th>\n",
       "      <td>1803</td>\n",
       "      <td>4670000</td>\n",
       "      <td>9370.0</td>\n",
       "      <td>0.002006</td>\n",
       "      <td>east_asia_pacific</td>\n",
       "    </tr>\n",
       "    <tr>\n",
       "      <th>Syria</th>\n",
       "      <td>1804</td>\n",
       "      <td>1340000</td>\n",
       "      <td>9370.0</td>\n",
       "      <td>0.006993</td>\n",
       "      <td>asia_west</td>\n",
       "    </tr>\n",
       "  </tbody>\n",
       "</table>\n",
       "</div>"
      ],
      "text/plain": [
       "          years      pop      kt      t_pp       eight_regions\n",
       "country                                                       \n",
       "Uganda     1800  2100000  9360.0  0.004457  africa_sub_saharan\n",
       "Turkey     1801  9790000  9360.0  0.000956         europe_east\n",
       "Tonga      1802    18700  9360.0  0.500535   east_asia_pacific\n",
       "Thailand   1803  4670000  9370.0  0.002006   east_asia_pacific\n",
       "Syria      1804  1340000  9370.0  0.006993           asia_west"
      ]
     },
     "execution_count": 123,
     "metadata": {},
     "output_type": "execute_result"
    }
   ],
   "source": [
    "#extracting the name and region column\n",
    "eightreg =countries[['name','eight_regions']]\n",
    "#rename the country column as 'country' to match the col name in co2_pp\n",
    "eightreg.columns =['country','eight_regions']\n",
    "#important step: set country as index to pair countries with eight_regions\n",
    "eightreg=eightreg.set_index('country')\n",
    "co2_pp= co2_pp.set_index('country').join(eightreg)\n",
    "\n",
    "co2_pp.head()"
   ]
  },
  {
   "cell_type": "markdown",
   "metadata": {},
   "source": [
    "## Box plots\n",
    "\n",
    "Let's look at the data for 2014 only. Here's a more complex visualisation of the data:"
   ]
  },
  {
   "cell_type": "code",
   "execution_count": 69,
   "metadata": {},
   "outputs": [
    {
     "data": {
      "image/png": "[encoded data removed]",
      "text/plain": [
       "<Figure size 511.111x500 with 1 Axes>"
      ]
     },
     "metadata": {},
     "output_type": "display_data"
    }
   ],
   "source": [
    "d = co2_pp.query('years==2014')\n",
    "g = sns.catplot(x=\"eight_regions\",y=\"t_pp\",data=d,kind=\"box\")\n",
    "g.set_axis_labels(\"\", \"CO2 emissions per capita / tonnes\")\n",
    "g.set_xticklabels(rotation=90)\n",
    "plt.show()"
   ]
  },
  {
   "cell_type": "markdown",
   "metadata": {},
   "source": [
    "## groupby()\n",
    "\n",
    "Pandas allows you to define groups of rows and construct summary statistics for each group:"
   ]
  },
  {
   "cell_type": "code",
   "execution_count": null,
   "metadata": {},
   "outputs": [],
   "source": [
    "grouped = d.groupby(\"eight_regions\")"
   ]
  },
  {
   "cell_type": "code",
   "execution_count": 118,
   "metadata": {},
   "outputs": [
    {
     "data": {
      "text/plain": [
       "years  eight_regions     \n",
       "1950   africa_north          0.047831\n",
       "       africa_sub_saharan    0.002719\n",
       "       america_north         0.000523\n",
       "       america_south         0.009238\n",
       "       asia_west             0.005832\n",
       "                               ...   \n",
       "2024   america_south         0.000080\n",
       "       asia_west             0.001166\n",
       "       east_asia_pacific     0.000589\n",
       "       europe_east           0.002632\n",
       "       europe_west           0.001697\n",
       "Name: t_pp, Length: 594, dtype: float64"
      ]
     },
     "execution_count": 118,
     "metadata": {},
     "output_type": "execute_result"
    }
   ],
   "source": [
    "grouped['t_pp'].median()"
   ]
  },
  {
   "cell_type": "markdown",
   "metadata": {},
   "source": [
    "##### *Exercise*\n",
    "\n",
    "Plot the total global CO2 emissions for each year.\n"
   ]
  },
  {
   "cell_type": "code",
   "execution_count": null,
   "metadata": {},
   "outputs": [
    {
     "data": {
      "image/png": "[encoded data removed]",
      "text/plain": [
       "<Figure size 640x480 with 1 Axes>"
      ]
     },
     "metadata": {},
     "output_type": "display_data"
    }
   ],
   "source": [
    "kt_year = co2_pp[['country','years','kt']]\n",
    "kt_yeartotal= kt_year.groupby(\"years\").sum()\n",
    "#set palette of seaborn plot\n",
    "#sns.color_palette(\"Set2\")\n",
    "sns.set_theme()\n",
    "\n",
    "plot1=sns.lineplot(kt_yeartotal,x='years',y='kt')\n",
    "plot1.set(xlabel=\"Year\",ylabel=\"Total CO2 emissions\",title=\"Global CO2 Emissions Trend\")\n",
    "plt.show()"
   ]
  },
  {
   "cell_type": "markdown",
   "metadata": {},
   "source": [
    "##### *Exercise*\n",
    "\n",
    "Plot the yearly median per-capita CO2 emissions for the eight regions, from 1950 onwards.\n"
   ]
  },
  {
   "cell_type": "code",
   "execution_count": null,
   "metadata": {},
   "outputs": [],
   "source": [
    "co2_pp = co2_pp.drop(['level_0','index'],axis=1)"
   ]
  },
  {
   "cell_type": "code",
   "execution_count": 117,
   "metadata": {},
   "outputs": [
    {
     "data": {
      "image/png": "[encoded data removed]",
      "text/plain": [
       "<Figure size 640x480 with 1 Axes>"
      ]
     },
     "metadata": {},
     "output_type": "display_data"
    }
   ],
   "source": [
    "kt1950= co2_pp.query('1950 <= years <= 2024')\n",
    "grouped= kt1950[['years','eight_regions','t_pp']].groupby(['years','eight_regions'])\n",
    "\n",
    "#get median of all those countries in each 8 regions\n",
    "ktmedian1950= grouped.median()\n",
    "ktmedian1950= ktmedian1950.reset_index()\n",
    "ktmedian1950.head()\n",
    "#t_pp is the yearly per capita emission\n",
    "plot2=sns.lineplot(ktmedian1950,x='years', y='t_pp', hue='eight_regions')\n",
    "plt.show()\n"
   ]
  },
  {
   "cell_type": "markdown",
   "metadata": {},
   "source": [
    "***"
   ]
  }
 ],
 "metadata": {
  "kernelspec": {
   "display_name": "Python 3",
   "language": "python",
   "name": "python3"
  },
  "language_info": {
   "codemirror_mode": {
    "name": "ipython",
    "version": 3
   },
   "file_extension": ".py",
   "mimetype": "text/x-python",
   "name": "python",
   "nbconvert_exporter": "python",
   "pygments_lexer": "ipython3",
   "version": "3.12.2"
  }
 },
 "nbformat": 4,
 "nbformat_minor": 4
}
